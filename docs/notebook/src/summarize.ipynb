{
 "cells": [
  {
   "cell_type": "markdown",
   "metadata": {},
   "source": [
    "`Import library`"
   ]
  },
  {
   "cell_type": "code",
   "execution_count": null,
   "metadata": {},
   "outputs": [],
   "source": [
    "import os\n",
    "from infy_gen_ai_fmwk.data.config_data import OpenAiLlmConfigData, SummarizerConfigData\n",
    "from infy_gen_ai_fmwk.data.request_data import SummarizerRequestData\n",
    "from infy_gen_ai_fmwk.service.summarize_service import SummarizeService"
   ]
  },
  {
   "cell_type": "markdown",
   "metadata": {},
   "source": [
    "`Configuration and Request Data Setup for summarize`"
   ]
  },
  {
   "cell_type": "code",
   "execution_count": null,
   "metadata": {},
   "outputs": [],
   "source": [
    "config_data = SummarizerConfigData(\n",
    "        summary_tokens=300,\n",
    "        word_limit=1500,\n",
    "        token_group_size=2048,\n",
    "        chunk_length=800,\n",
    "        #Steps to download a model can be referred from README.md file.The vocab_dir_path below needs to be updated by the user accordingly.\n",
    "        vocab_dir_path=\"C:/MyProgramFiles/AI/models/gpt2\"\n",
    "    )\n",
    "\n",
    "request_data = SummarizerRequestData()\n",
    "# Input file path should be updated by the user\n",
    "request_data.file_path = \"../data/input/report.pdf\"\n",
    "request_data.summarization_type = \"recursive\"\n",
    "config_data.open_ai_config = OpenAiLlmConfigData(\n",
    "        completion_model=\"gpt-4\",\n",
    "        open_ai_url=os.environ['AZURE_OPENAI_API_BASE'],\n",
    "        open_ai_key=os.environ['AZURE_OPENAI_KEY_EAST_US'],\n",
    "        open_ai_version=os.environ['AZURE_OPENAI_API_VERSION'],\n",
    "        prompt_template=\"Turn this text into a short summary:\\n---\\n\\n{text} \\n\\n---\\n\\nSummary:\"\n",
    "    )"
   ]
  },
  {
   "cell_type": "markdown",
   "metadata": {},
   "source": [
    "`Invoke summarize service`"
   ]
  },
  {
   "cell_type": "code",
   "execution_count": null,
   "metadata": {},
   "outputs": [],
   "source": [
    "summary_service = SummarizeService(config_data)\n",
    "result = summary_service.summarize(request_data)"
   ]
  },
  {
   "cell_type": "markdown",
   "metadata": {},
   "source": [
    "`Display summary`"
   ]
  },
  {
   "cell_type": "code",
   "execution_count": null,
   "metadata": {},
   "outputs": [],
   "source": [
    "print(result.summary)"
   ]
  }
 ],
 "metadata": {
  "kernelspec": {
   "display_name": ".v1",
   "language": "python",
   "name": "python3"
  },
  "language_info": {
   "codemirror_mode": {
    "name": "ipython",
    "version": 3
   },
   "file_extension": ".py",
   "mimetype": "text/x-python",
   "name": "python",
   "nbconvert_exporter": "python",
   "pygments_lexer": "ipython3",
   "version": "3.10.4"
  }
 },
 "nbformat": 4,
 "nbformat_minor": 2
}
