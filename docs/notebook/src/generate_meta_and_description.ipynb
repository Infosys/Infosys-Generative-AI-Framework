{
 "cells": [
  {
   "cell_type": "markdown",
   "metadata": {},
   "source": [
    "`Import library`"
   ]
  },
  {
   "cell_type": "code",
   "execution_count": null,
   "metadata": {},
   "outputs": [],
   "source": [
    "import os\n",
    "from infy_gen_ai_fmwk.service.generate_meta_and_description_service import GenerateMetaAndDescriptionService\n",
    "from infy_gen_ai_fmwk.data.config_data import OpenAiLlmConfigData\n",
    "from infy_gen_ai_fmwk.data.request_data import MetaAndDescriptionGeneratorRequestData\n",
    "\n"
   ]
  },
  {
   "cell_type": "markdown",
   "metadata": {},
   "source": [
    "`Configuration and Request Data Setup for generate meta and description`"
   ]
  },
  {
   "cell_type": "code",
   "execution_count": null,
   "metadata": {},
   "outputs": [],
   "source": [
    "request_data = MetaAndDescriptionGeneratorRequestData()\n",
    "# Input file path should be updated by the user\n",
    "request_data.file_path = \"\"\n",
    "config_data = OpenAiLlmConfigData(\n",
    "        completion_model=\"gpt-4\",\n",
    "        open_ai_url=os.environ['AZURE_OPENAI_API_BASE'],\n",
    "        open_ai_key=os.environ['AZURE_OPENAI_KEY_EAST_US'],\n",
    "        open_ai_version=os.environ['AZURE_OPENAI_API_VERSION'],\n",
    "        prompt_template=\"\"\"From the below mentioned Blog Content extract important keywords which can be further used to create a meta description for an attractive search result on Google India in 2020 from the given Keywords.\n",
    "                        Blog Content:\\n{}\n",
    "                        Important Keywords : {}\n",
    "                        From the below mentioned Blog Content and Important Keywords, Generate a Meta Description for an attractive search result on Google India in 2020. It must follow the Characteristics of a good Meta Descriptions.\n",
    "                        Characteristics of a good Meta Descriptions are it is unique, it matches the content of the Blog, Show specifications when needed, focus on keyphrase, include call to action, uses active voice and make it actionable and it contains upto 155 characters only.\n",
    "                        Blog Content:\\n{} \"\"\"\n",
    "    )"
   ]
  },
  {
   "cell_type": "markdown",
   "metadata": {},
   "source": [
    "`Invoke generate meta and description service`"
   ]
  },
  {
   "cell_type": "code",
   "execution_count": null,
   "metadata": {},
   "outputs": [],
   "source": [
    "summary_service = GenerateMetaAndDescriptionService(config_data)\n",
    "result = summary_service.get_meta_description(request_data)"
   ]
  },
  {
   "cell_type": "markdown",
   "metadata": {},
   "source": [
    "`Display meta and description response`"
   ]
  },
  {
   "cell_type": "code",
   "execution_count": null,
   "metadata": {},
   "outputs": [],
   "source": [
    "print(result.meta_descr_response )"
   ]
  }
 ],
 "metadata": {
  "kernelspec": {
   "display_name": ".v1",
   "language": "python",
   "name": "python3"
  },
  "language_info": {
   "codemirror_mode": {
    "name": "ipython",
    "version": 3
   },
   "file_extension": ".py",
   "mimetype": "text/x-python",
   "name": "python",
   "nbconvert_exporter": "python",
   "pygments_lexer": "ipython3",
   "version": "3.10.4"
  }
 },
 "nbformat": 4,
 "nbformat_minor": 2
}
