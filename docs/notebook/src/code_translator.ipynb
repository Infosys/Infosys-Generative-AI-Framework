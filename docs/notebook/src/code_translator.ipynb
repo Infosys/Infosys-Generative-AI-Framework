{
 "cells": [
  {
   "cell_type": "markdown",
   "metadata": {},
   "source": [
    "`Import library`"
   ]
  },
  {
   "cell_type": "code",
   "execution_count": null,
   "metadata": {},
   "outputs": [],
   "source": [
    "import os\n",
    "from infy_gen_ai_fmwk.data.request_data import CodeTranslatorRequestData\n",
    "from infy_gen_ai_fmwk.service.code_translator_service import CodeTranslatorService\n",
    "from infy_gen_ai_fmwk.data.config_data import OpenAiLlmConfigData, CodeTranslatorConfigData"
   ]
  },
  {
   "cell_type": "markdown",
   "metadata": {},
   "source": [
    "`Configuration and Request Data Setup for code translator`"
   ]
  },
  {
   "cell_type": "code",
   "execution_count": null,
   "metadata": {},
   "outputs": [],
   "source": [
    "config_data = CodeTranslatorConfigData()\n",
    "request_data = CodeTranslatorRequestData()\n",
    "# Input source code file path should be updated by the user\n",
    "request_data.src_code_file_path = \"../data/input/test1_java.txt\"\n",
    "request_data.src_lang = 'java'\n",
    "request_data.tgt_lang = 'c'\n",
    "config_data.token_limit = 2000\n",
    "#Steps to download a model can be referred from README.md file.The vocab_dir_path below needs to be updated by the user accordingly.\n",
    "config_data.vocab_dir_path = \"C:/MyProgramFiles/AI/models/gpt2\"\n",
    "config_data.open_ai_config = OpenAiLlmConfigData(\n",
    "        completion_model=\"gpt-4\",\n",
    "        open_ai_url=os.environ['AZURE_OPENAI_API_BASE'],\n",
    "        open_ai_key=os.environ['AZURE_OPENAI_KEY_EAST_US'],\n",
    "        open_ai_version=os.environ['AZURE_OPENAI_API_VERSION'],\n",
    "        prompt_template=\"Convert the following {src_lang} code to {tgt_lang} code:\\n\\n\"\n",
    "    )"
   ]
  },
  {
   "cell_type": "markdown",
   "metadata": {},
   "source": [
    "`Invoke code translation service`"
   ]
  },
  {
   "cell_type": "code",
   "execution_count": null,
   "metadata": {},
   "outputs": [],
   "source": [
    "code_service = CodeTranslatorService(config_data)\n",
    "result = code_service.translate_code(request_data)"
   ]
  },
  {
   "cell_type": "markdown",
   "metadata": {},
   "source": [
    "`Display translated code`"
   ]
  },
  {
   "cell_type": "code",
   "execution_count": null,
   "metadata": {},
   "outputs": [],
   "source": [
    "print(result.translated_code)"
   ]
  }
 ],
 "metadata": {
  "kernelspec": {
   "display_name": "Python 3",
   "language": "python",
   "name": "python3"
  },
  "language_info": {
   "codemirror_mode": {
    "name": "ipython",
    "version": 3
   },
   "file_extension": ".py",
   "mimetype": "text/x-python",
   "name": "python",
   "nbconvert_exporter": "python",
   "pygments_lexer": "ipython3",
   "version": "3.10.4"
  }
 },
 "nbformat": 4,
 "nbformat_minor": 2
}
