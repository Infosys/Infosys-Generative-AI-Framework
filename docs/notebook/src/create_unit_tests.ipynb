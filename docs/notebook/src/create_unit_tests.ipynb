{
 "cells": [
  {
   "cell_type": "markdown",
   "metadata": {},
   "source": [
    "`Import library`"
   ]
  },
  {
   "cell_type": "code",
   "execution_count": null,
   "metadata": {},
   "outputs": [],
   "source": [
    "import os\n",
    "from infy_gen_ai_fmwk.data.config_data import OpenAiLlmConfigData\n",
    "from infy_gen_ai_fmwk.data.request_data import UnitTestCreatorRequestData\n",
    "from infy_gen_ai_fmwk.service.create_unit_tests_service import CreateUnitTestsService"
   ]
  },
  {
   "cell_type": "markdown",
   "metadata": {},
   "source": [
    "`Configuration and Request Data Setup for Unit Test Generation`"
   ]
  },
  {
   "cell_type": "code",
   "execution_count": null,
   "metadata": {},
   "outputs": [],
   "source": [
    "request_data = UnitTestCreatorRequestData()\n",
    "# Input source code file path should be updated by the user\n",
    "request_data.src_code_file_path =\"../data/input/test1_java.txt\"\n",
    "request_data.lang = 'java'\n",
    "config_data = OpenAiLlmConfigData(\n",
    "        completion_model=\"gpt-4\",\n",
    "        open_ai_url=os.environ['AZURE_OPENAI_API_BASE'],\n",
    "        open_ai_key=os.environ['AZURE_OPENAI_KEY_EAST_US'],\n",
    "        open_ai_version=os.environ['AZURE_OPENAI_API_VERSION'],\n",
    "        prompt_template=\"Generate source code for 6 {lang} unit test cases for the given {lang} code. The test cases should be numbered\\n\"\n",
    "\n",
    "    )"
   ]
  },
  {
   "cell_type": "markdown",
   "metadata": {},
   "source": [
    "`Invoke code translation service`"
   ]
  },
  {
   "cell_type": "code",
   "execution_count": null,
   "metadata": {},
   "outputs": [],
   "source": [
    "code_service = CreateUnitTestsService(config_data)\n",
    "result = code_service.create_unit_tests(request_data)"
   ]
  },
  {
   "cell_type": "markdown",
   "metadata": {},
   "source": [
    "`Display unit test response`"
   ]
  },
  {
   "cell_type": "code",
   "execution_count": null,
   "metadata": {},
   "outputs": [],
   "source": [
    "print(result.unit_test_response)"
   ]
  }
 ],
 "metadata": {
  "kernelspec": {
   "display_name": ".v1",
   "language": "python",
   "name": "python3"
  },
  "language_info": {
   "codemirror_mode": {
    "name": "ipython",
    "version": 3
   },
   "file_extension": ".py",
   "mimetype": "text/x-python",
   "name": "python",
   "nbconvert_exporter": "python",
   "pygments_lexer": "ipython3",
   "version": "3.10.4"
  }
 },
 "nbformat": 4,
 "nbformat_minor": 2
}
